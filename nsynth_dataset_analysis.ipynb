{
 "cells": [
  {
   "cell_type": "markdown",
   "id": "98dea89f",
   "metadata": {},
   "source": [
    "# NSynth Dataset Download and Analysis\n",
    "\n",
    "This notebook downloads the NSynth dataset from Hugging Face and creates visualizations to understand the data distribution.\n",
    "\n",
    "## Dataset Overview\n",
    "- **Size**: Over 300,000 musical notes from 1000+ instruments\n",
    "- **Splits**: Train (289,205), Valid (12,678), Test (4,096)\n",
    "- **Features**: Audio files with metadata on instrument family, source, and sonic qualities"
   ]
  },
  {
   "cell_type": "markdown",
   "id": "9c7185bf",
   "metadata": {},
   "source": [
    "## 1. Install Required Libraries"
   ]
  },
  {
   "cell_type": "code",
   "execution_count": 2,
   "id": "4d36503c",
   "metadata": {},
   "outputs": [
    {
     "name": "stdout",
     "output_type": "stream",
     "text": [
      "\n",
      "\u001b[1m[\u001b[0m\u001b[34;49mnotice\u001b[0m\u001b[1;39;49m]\u001b[0m\u001b[39;49m A new release of pip is available: \u001b[0m\u001b[31;49m25.0.1\u001b[0m\u001b[39;49m -> \u001b[0m\u001b[32;49m25.3\u001b[0m\n",
      "\u001b[1m[\u001b[0m\u001b[34;49mnotice\u001b[0m\u001b[1;39;49m]\u001b[0m\u001b[39;49m To update, run: \u001b[0m\u001b[32;49mpip install --upgrade pip\u001b[0m\n"
     ]
    }
   ],
   "source": [
    "!pip install datasets librosa matplotlib seaborn pandas numpy plotly soundfile -q"
   ]
  },
  {
   "cell_type": "markdown",
   "id": "f3123d91",
   "metadata": {},
   "source": [
    "## 2. Import Libraries"
   ]
  },
  {
   "cell_type": "code",
   "execution_count": 3,
   "id": "1ac4d98b",
   "metadata": {},
   "outputs": [
    {
     "name": "stderr",
     "output_type": "stream",
     "text": [
      "/Users/gabrielespinoza/UTEC/tesis/venv/lib/python3.13/site-packages/tqdm/auto.py:21: TqdmWarning: IProgress not found. Please update jupyter and ipywidgets. See https://ipywidgets.readthedocs.io/en/stable/user_install.html\n",
      "  from .autonotebook import tqdm as notebook_tqdm\n"
     ]
    },
    {
     "name": "stdout",
     "output_type": "stream",
     "text": [
      "Libraries imported successfully!\n"
     ]
    }
   ],
   "source": [
    "import pandas as pd\n",
    "import numpy as np\n",
    "import matplotlib.pyplot as plt\n",
    "import seaborn as sns\n",
    "import plotly.express as px\n",
    "import plotly.graph_objects as go\n",
    "from plotly.subplots import make_subplots\n",
    "from datasets import load_dataset\n",
    "from tqdm.auto import tqdm\n",
    "import warnings\n",
    "warnings.filterwarnings('ignore')\n",
    "\n",
    "# Set style\n",
    "sns.set_style('whitegrid')\n",
    "plt.rcParams['figure.figsize'] = (12, 6)\n",
    "\n",
    "print(\"Libraries imported successfully!\")"
   ]
  },
  {
   "cell_type": "markdown",
   "id": "0a549e51",
   "metadata": {},
   "source": [
    "## 3. Download NSynth Dataset\n",
    "\n",
    "This will download the dataset from Hugging Face. We'll use the dataset viewer API to access the data directly without requiring loading scripts."
   ]
  },
  {
   "cell_type": "code",
   "execution_count": null,
   "id": "a662c46d",
   "metadata": {},
   "outputs": [
    {
     "name": "stdout",
     "output_type": "stream",
     "text": [
      "Loading NSynth dataset metadata from Hugging Face...\n",
      "Checking available files in the repository...\n",
      "Found 40 files in the repository\n",
      "\n",
      "Parquet files: 37\n",
      "JSON metadata files: 0\n",
      "\n",
      "Sample parquet files:\n",
      "  - data/test/test.parquet\n",
      "  - data/train/batch_0.parquet\n",
      "  - data/train/batch_1.parquet\n",
      "  - data/train/batch_10.parquet\n",
      "  - data/train/batch_11.parquet\n",
      "\n",
      "================================================================================\n",
      "Loading dataset from parquet files...\n",
      "================================================================================\n",
      "\n",
      "Train files: 35\n",
      "Valid files: 1\n",
      "Test files: 1\n",
      "\n",
      "Loading from 3 splits...\n"
     ]
    },
    {
     "name": "stderr",
     "output_type": "stream",
     "text": [
      "Downloading data: 100%|██████████| 35/35 [14:56<00:00, 25.60s/files]\n",
      "Generating train split: 231364 examples [07:30, 513.49 examples/s]\n"
     ]
    },
    {
     "ename": "DatasetGenerationError",
     "evalue": "An error occurred while generating the dataset",
     "output_type": "error",
     "traceback": [
      "\u001b[31m---------------------------------------------------------------------------\u001b[39m",
      "\u001b[31mOSError\u001b[39m                                   Traceback (most recent call last)",
      "\u001b[36mFile \u001b[39m\u001b[32m~/UTEC/tesis/venv/lib/python3.13/site-packages/datasets/builder.py:1831\u001b[39m, in \u001b[36mArrowBasedBuilder._prepare_split_single\u001b[39m\u001b[34m(self, gen_kwargs, fpath, file_format, max_shard_size, job_id)\u001b[39m\n\u001b[32m   1830\u001b[39m \u001b[38;5;28;01mtry\u001b[39;00m:\n\u001b[32m-> \u001b[39m\u001b[32m1831\u001b[39m     \u001b[43mwriter\u001b[49m\u001b[43m.\u001b[49m\u001b[43mwrite_table\u001b[49m\u001b[43m(\u001b[49m\u001b[43mtable\u001b[49m\u001b[43m)\u001b[49m\n\u001b[32m   1832\u001b[39m \u001b[38;5;28;01mexcept\u001b[39;00m CastError \u001b[38;5;28;01mas\u001b[39;00m cast_error:\n",
      "\u001b[36mFile \u001b[39m\u001b[32m~/UTEC/tesis/venv/lib/python3.13/site-packages/datasets/arrow_writer.py:719\u001b[39m, in \u001b[36mArrowWriter.write_table\u001b[39m\u001b[34m(self, pa_table, writer_batch_size)\u001b[39m\n\u001b[32m    718\u001b[39m \u001b[38;5;28mself\u001b[39m._num_examples += pa_table.num_rows\n\u001b[32m--> \u001b[39m\u001b[32m719\u001b[39m \u001b[38;5;28;43mself\u001b[39;49m\u001b[43m.\u001b[49m\u001b[43mpa_writer\u001b[49m\u001b[43m.\u001b[49m\u001b[43mwrite_table\u001b[49m\u001b[43m(\u001b[49m\u001b[43mpa_table\u001b[49m\u001b[43m,\u001b[49m\u001b[43m \u001b[49m\u001b[43mwriter_batch_size\u001b[49m\u001b[43m)\u001b[49m\n",
      "\u001b[36mFile \u001b[39m\u001b[32m~/UTEC/tesis/venv/lib/python3.13/site-packages/pyarrow/ipc.pxi:562\u001b[39m, in \u001b[36mpyarrow.lib._CRecordBatchWriter.write_table\u001b[39m\u001b[34m()\u001b[39m\n",
      "\u001b[36mFile \u001b[39m\u001b[32m~/UTEC/tesis/venv/lib/python3.13/site-packages/pyarrow/error.pxi:89\u001b[39m, in \u001b[36mpyarrow.lib.check_status\u001b[39m\u001b[34m()\u001b[39m\n",
      "\u001b[36mFile \u001b[39m\u001b[32m~/UTEC/tesis/venv/lib/python3.13/site-packages/fsspec/implementations/local.py:469\u001b[39m, in \u001b[36mLocalFileOpener.write\u001b[39m\u001b[34m(self, *args, **kwargs)\u001b[39m\n\u001b[32m    468\u001b[39m \u001b[38;5;28;01mdef\u001b[39;00m\u001b[38;5;250m \u001b[39m\u001b[34mwrite\u001b[39m(\u001b[38;5;28mself\u001b[39m, *args, **kwargs):\n\u001b[32m--> \u001b[39m\u001b[32m469\u001b[39m     \u001b[38;5;28;01mreturn\u001b[39;00m \u001b[38;5;28;43mself\u001b[39;49m\u001b[43m.\u001b[49m\u001b[43mf\u001b[49m\u001b[43m.\u001b[49m\u001b[43mwrite\u001b[49m\u001b[43m(\u001b[49m\u001b[43m*\u001b[49m\u001b[43margs\u001b[49m\u001b[43m,\u001b[49m\u001b[43m \u001b[49m\u001b[43m*\u001b[49m\u001b[43m*\u001b[49m\u001b[43mkwargs\u001b[49m\u001b[43m)\u001b[49m\n",
      "\u001b[31mOSError\u001b[39m: [Errno 28] No space left on device",
      "\nThe above exception was the direct cause of the following exception:\n",
      "\u001b[31mDatasetGenerationError\u001b[39m                    Traceback (most recent call last)",
      "\u001b[36mCell\u001b[39m\u001b[36m \u001b[39m\u001b[32mIn[6]\u001b[39m\u001b[32m, line 65\u001b[39m\n\u001b[32m     62\u001b[39m     data_files[\u001b[33m\"\u001b[39m\u001b[33mtest\u001b[39m\u001b[33m\"\u001b[39m] = [\u001b[33mf\u001b[39m\u001b[33m\"\u001b[39m\u001b[33mhf://datasets/jg583/NSynth/\u001b[39m\u001b[38;5;132;01m{\u001b[39;00mf\u001b[38;5;132;01m}\u001b[39;00m\u001b[33m\"\u001b[39m \u001b[38;5;28;01mfor\u001b[39;00m f \u001b[38;5;129;01min\u001b[39;00m test_parquet]\n\u001b[32m     64\u001b[39m \u001b[38;5;28mprint\u001b[39m(\u001b[33mf\u001b[39m\u001b[33m\"\u001b[39m\u001b[38;5;130;01m\\n\u001b[39;00m\u001b[33mLoading from \u001b[39m\u001b[38;5;132;01m{\u001b[39;00m\u001b[38;5;28mlen\u001b[39m(data_files)\u001b[38;5;132;01m}\u001b[39;00m\u001b[33m splits...\u001b[39m\u001b[33m\"\u001b[39m)\n\u001b[32m---> \u001b[39m\u001b[32m65\u001b[39m dataset = \u001b[43mload_dataset\u001b[49m\u001b[43m(\u001b[49m\u001b[33;43m\"\u001b[39;49m\u001b[33;43mparquet\u001b[39;49m\u001b[33;43m\"\u001b[39;49m\u001b[43m,\u001b[49m\u001b[43m \u001b[49m\u001b[43mdata_files\u001b[49m\u001b[43m=\u001b[49m\u001b[43mdata_files\u001b[49m\u001b[43m)\u001b[49m\n\u001b[32m     67\u001b[39m \u001b[38;5;28mprint\u001b[39m(\u001b[33mf\u001b[39m\u001b[33m\"\u001b[39m\u001b[38;5;130;01m\\n\u001b[39;00m\u001b[33mDataset loaded successfully!\u001b[39m\u001b[33m\"\u001b[39m)\n\u001b[32m     68\u001b[39m \u001b[38;5;28mprint\u001b[39m(\u001b[33mf\u001b[39m\u001b[33m\"\u001b[39m\u001b[38;5;130;01m\\n\u001b[39;00m\u001b[33mAvailable splits: \u001b[39m\u001b[38;5;132;01m{\u001b[39;00m\u001b[38;5;28mlist\u001b[39m(dataset.keys())\u001b[38;5;132;01m}\u001b[39;00m\u001b[33m\"\u001b[39m)\n",
      "\u001b[36mFile \u001b[39m\u001b[32m~/UTEC/tesis/venv/lib/python3.13/site-packages/datasets/load.py:1412\u001b[39m, in \u001b[36mload_dataset\u001b[39m\u001b[34m(path, name, data_dir, data_files, split, cache_dir, features, download_config, download_mode, verification_mode, keep_in_memory, save_infos, revision, token, streaming, num_proc, storage_options, **config_kwargs)\u001b[39m\n\u001b[32m   1409\u001b[39m     \u001b[38;5;28;01mreturn\u001b[39;00m builder_instance.as_streaming_dataset(split=split)\n\u001b[32m   1411\u001b[39m \u001b[38;5;66;03m# Download and prepare data\u001b[39;00m\n\u001b[32m-> \u001b[39m\u001b[32m1412\u001b[39m \u001b[43mbuilder_instance\u001b[49m\u001b[43m.\u001b[49m\u001b[43mdownload_and_prepare\u001b[49m\u001b[43m(\u001b[49m\n\u001b[32m   1413\u001b[39m \u001b[43m    \u001b[49m\u001b[43mdownload_config\u001b[49m\u001b[43m=\u001b[49m\u001b[43mdownload_config\u001b[49m\u001b[43m,\u001b[49m\n\u001b[32m   1414\u001b[39m \u001b[43m    \u001b[49m\u001b[43mdownload_mode\u001b[49m\u001b[43m=\u001b[49m\u001b[43mdownload_mode\u001b[49m\u001b[43m,\u001b[49m\n\u001b[32m   1415\u001b[39m \u001b[43m    \u001b[49m\u001b[43mverification_mode\u001b[49m\u001b[43m=\u001b[49m\u001b[43mverification_mode\u001b[49m\u001b[43m,\u001b[49m\n\u001b[32m   1416\u001b[39m \u001b[43m    \u001b[49m\u001b[43mnum_proc\u001b[49m\u001b[43m=\u001b[49m\u001b[43mnum_proc\u001b[49m\u001b[43m,\u001b[49m\n\u001b[32m   1417\u001b[39m \u001b[43m    \u001b[49m\u001b[43mstorage_options\u001b[49m\u001b[43m=\u001b[49m\u001b[43mstorage_options\u001b[49m\u001b[43m,\u001b[49m\n\u001b[32m   1418\u001b[39m \u001b[43m\u001b[49m\u001b[43m)\u001b[49m\n\u001b[32m   1420\u001b[39m \u001b[38;5;66;03m# Build dataset for splits\u001b[39;00m\n\u001b[32m   1421\u001b[39m keep_in_memory = (\n\u001b[32m   1422\u001b[39m     keep_in_memory \u001b[38;5;28;01mif\u001b[39;00m keep_in_memory \u001b[38;5;129;01mis\u001b[39;00m \u001b[38;5;129;01mnot\u001b[39;00m \u001b[38;5;28;01mNone\u001b[39;00m \u001b[38;5;28;01melse\u001b[39;00m is_small_dataset(builder_instance.info.dataset_size)\n\u001b[32m   1423\u001b[39m )\n",
      "\u001b[36mFile \u001b[39m\u001b[32m~/UTEC/tesis/venv/lib/python3.13/site-packages/datasets/builder.py:894\u001b[39m, in \u001b[36mDatasetBuilder.download_and_prepare\u001b[39m\u001b[34m(self, output_dir, download_config, download_mode, verification_mode, dl_manager, base_path, file_format, max_shard_size, num_proc, storage_options, **download_and_prepare_kwargs)\u001b[39m\n\u001b[32m    892\u001b[39m \u001b[38;5;28;01mif\u001b[39;00m num_proc \u001b[38;5;129;01mis\u001b[39;00m \u001b[38;5;129;01mnot\u001b[39;00m \u001b[38;5;28;01mNone\u001b[39;00m:\n\u001b[32m    893\u001b[39m     prepare_split_kwargs[\u001b[33m\"\u001b[39m\u001b[33mnum_proc\u001b[39m\u001b[33m\"\u001b[39m] = num_proc\n\u001b[32m--> \u001b[39m\u001b[32m894\u001b[39m \u001b[38;5;28;43mself\u001b[39;49m\u001b[43m.\u001b[49m\u001b[43m_download_and_prepare\u001b[49m\u001b[43m(\u001b[49m\n\u001b[32m    895\u001b[39m \u001b[43m    \u001b[49m\u001b[43mdl_manager\u001b[49m\u001b[43m=\u001b[49m\u001b[43mdl_manager\u001b[49m\u001b[43m,\u001b[49m\n\u001b[32m    896\u001b[39m \u001b[43m    \u001b[49m\u001b[43mverification_mode\u001b[49m\u001b[43m=\u001b[49m\u001b[43mverification_mode\u001b[49m\u001b[43m,\u001b[49m\n\u001b[32m    897\u001b[39m \u001b[43m    \u001b[49m\u001b[43m*\u001b[49m\u001b[43m*\u001b[49m\u001b[43mprepare_split_kwargs\u001b[49m\u001b[43m,\u001b[49m\n\u001b[32m    898\u001b[39m \u001b[43m    \u001b[49m\u001b[43m*\u001b[49m\u001b[43m*\u001b[49m\u001b[43mdownload_and_prepare_kwargs\u001b[49m\u001b[43m,\u001b[49m\n\u001b[32m    899\u001b[39m \u001b[43m\u001b[49m\u001b[43m)\u001b[49m\n\u001b[32m    900\u001b[39m \u001b[38;5;66;03m# Sync info\u001b[39;00m\n\u001b[32m    901\u001b[39m \u001b[38;5;28mself\u001b[39m.info.dataset_size = \u001b[38;5;28msum\u001b[39m(split.num_bytes \u001b[38;5;28;01mfor\u001b[39;00m split \u001b[38;5;129;01min\u001b[39;00m \u001b[38;5;28mself\u001b[39m.info.splits.values())\n",
      "\u001b[36mFile \u001b[39m\u001b[32m~/UTEC/tesis/venv/lib/python3.13/site-packages/datasets/builder.py:970\u001b[39m, in \u001b[36mDatasetBuilder._download_and_prepare\u001b[39m\u001b[34m(self, dl_manager, verification_mode, **prepare_split_kwargs)\u001b[39m\n\u001b[32m    966\u001b[39m split_dict.add(split_generator.split_info)\n\u001b[32m    968\u001b[39m \u001b[38;5;28;01mtry\u001b[39;00m:\n\u001b[32m    969\u001b[39m     \u001b[38;5;66;03m# Prepare split will record examples associated to the split\u001b[39;00m\n\u001b[32m--> \u001b[39m\u001b[32m970\u001b[39m     \u001b[38;5;28;43mself\u001b[39;49m\u001b[43m.\u001b[49m\u001b[43m_prepare_split\u001b[49m\u001b[43m(\u001b[49m\u001b[43msplit_generator\u001b[49m\u001b[43m,\u001b[49m\u001b[43m \u001b[49m\u001b[43m*\u001b[49m\u001b[43m*\u001b[49m\u001b[43mprepare_split_kwargs\u001b[49m\u001b[43m)\u001b[49m\n\u001b[32m    971\u001b[39m \u001b[38;5;28;01mexcept\u001b[39;00m \u001b[38;5;167;01mOSError\u001b[39;00m \u001b[38;5;28;01mas\u001b[39;00m e:\n\u001b[32m    972\u001b[39m     \u001b[38;5;28;01mraise\u001b[39;00m \u001b[38;5;167;01mOSError\u001b[39;00m(\n\u001b[32m    973\u001b[39m         \u001b[33m\"\u001b[39m\u001b[33mCannot find data file. \u001b[39m\u001b[33m\"\u001b[39m\n\u001b[32m    974\u001b[39m         + (\u001b[38;5;28mself\u001b[39m.manual_download_instructions \u001b[38;5;129;01mor\u001b[39;00m \u001b[33m\"\u001b[39m\u001b[33m\"\u001b[39m)\n\u001b[32m    975\u001b[39m         + \u001b[33m\"\u001b[39m\u001b[38;5;130;01m\\n\u001b[39;00m\u001b[33mOriginal error:\u001b[39m\u001b[38;5;130;01m\\n\u001b[39;00m\u001b[33m\"\u001b[39m\n\u001b[32m    976\u001b[39m         + \u001b[38;5;28mstr\u001b[39m(e)\n\u001b[32m    977\u001b[39m     ) \u001b[38;5;28;01mfrom\u001b[39;00m\u001b[38;5;250m \u001b[39m\u001b[38;5;28;01mNone\u001b[39;00m\n",
      "\u001b[36mFile \u001b[39m\u001b[32m~/UTEC/tesis/venv/lib/python3.13/site-packages/datasets/builder.py:1702\u001b[39m, in \u001b[36mArrowBasedBuilder._prepare_split\u001b[39m\u001b[34m(self, split_generator, file_format, num_proc, max_shard_size)\u001b[39m\n\u001b[32m   1700\u001b[39m job_id = \u001b[32m0\u001b[39m\n\u001b[32m   1701\u001b[39m \u001b[38;5;28;01mwith\u001b[39;00m pbar:\n\u001b[32m-> \u001b[39m\u001b[32m1702\u001b[39m \u001b[43m    \u001b[49m\u001b[38;5;28;43;01mfor\u001b[39;49;00m\u001b[43m \u001b[49m\u001b[43mjob_id\u001b[49m\u001b[43m,\u001b[49m\u001b[43m \u001b[49m\u001b[43mdone\u001b[49m\u001b[43m,\u001b[49m\u001b[43m \u001b[49m\u001b[43mcontent\u001b[49m\u001b[43m \u001b[49m\u001b[38;5;129;43;01min\u001b[39;49;00m\u001b[43m \u001b[49m\u001b[38;5;28;43mself\u001b[39;49m\u001b[43m.\u001b[49m\u001b[43m_prepare_split_single\u001b[49m\u001b[43m(\u001b[49m\n\u001b[32m   1703\u001b[39m \u001b[43m        \u001b[49m\u001b[43mgen_kwargs\u001b[49m\u001b[43m=\u001b[49m\u001b[43mgen_kwargs\u001b[49m\u001b[43m,\u001b[49m\u001b[43m \u001b[49m\u001b[43mjob_id\u001b[49m\u001b[43m=\u001b[49m\u001b[43mjob_id\u001b[49m\u001b[43m,\u001b[49m\u001b[43m \u001b[49m\u001b[43m*\u001b[49m\u001b[43m*\u001b[49m\u001b[43m_prepare_split_args\u001b[49m\n\u001b[32m   1704\u001b[39m \u001b[43m    \u001b[49m\u001b[43m)\u001b[49m\u001b[43m:\u001b[49m\n\u001b[32m   1705\u001b[39m \u001b[43m        \u001b[49m\u001b[38;5;28;43;01mif\u001b[39;49;00m\u001b[43m \u001b[49m\u001b[43mdone\u001b[49m\u001b[43m:\u001b[49m\n\u001b[32m   1706\u001b[39m \u001b[43m            \u001b[49m\u001b[43mresult\u001b[49m\u001b[43m \u001b[49m\u001b[43m=\u001b[49m\u001b[43m \u001b[49m\u001b[43mcontent\u001b[49m\n",
      "\u001b[36mFile \u001b[39m\u001b[32m~/UTEC/tesis/venv/lib/python3.13/site-packages/datasets/builder.py:1858\u001b[39m, in \u001b[36mArrowBasedBuilder._prepare_split_single\u001b[39m\u001b[34m(self, gen_kwargs, fpath, file_format, max_shard_size, job_id)\u001b[39m\n\u001b[32m   1856\u001b[39m     \u001b[38;5;28;01mif\u001b[39;00m \u001b[38;5;28misinstance\u001b[39m(e, DatasetGenerationError):\n\u001b[32m   1857\u001b[39m         \u001b[38;5;28;01mraise\u001b[39;00m\n\u001b[32m-> \u001b[39m\u001b[32m1858\u001b[39m     \u001b[38;5;28;01mraise\u001b[39;00m DatasetGenerationError(\u001b[33m\"\u001b[39m\u001b[33mAn error occurred while generating the dataset\u001b[39m\u001b[33m\"\u001b[39m) \u001b[38;5;28;01mfrom\u001b[39;00m\u001b[38;5;250m \u001b[39m\u001b[34;01me\u001b[39;00m\n\u001b[32m   1860\u001b[39m \u001b[38;5;28;01myield\u001b[39;00m job_id, \u001b[38;5;28;01mTrue\u001b[39;00m, (total_num_examples, total_num_bytes, writer._features, num_shards, shard_lengths)\n",
      "\u001b[31mDatasetGenerationError\u001b[39m: An error occurred while generating the dataset"
     ]
    }
   ],
   "source": [
    "# Load the NSynth dataset by accessing the Parquet files directly\n",
    "# This avoids the deprecated loading script issue\n",
    "print(\"Loading NSynth dataset from Parquet files...\")\n",
    "print(\"(This method avoids the deprecated loading script)\")\n",
    "\n",
    "from datasets import load_dataset\n",
    "from huggingface_hub import HfApi\n",
    "\n",
    "# Initialize HF API\n",
    "api = HfApi()\n",
    "\n",
    "try:\n",
    "    # List all files in the repository\n",
    "    print(\"\\nDiscovering dataset files...\")\n",
    "    repo_files = list(api.list_repo_files(\"jg583/NSynth\", repo_type=\"dataset\"))\n",
    "    \n",
    "    # Find parquet files\n",
    "    parquet_files = [f for f in repo_files if f.endswith('.parquet')]\n",
    "    \n",
    "    if parquet_files:\n",
    "        print(f\"Found {len(parquet_files)} Parquet file(s)\")\n",
    "        \n",
    "        # Group by split\n",
    "        train_parquet = [f for f in parquet_files if 'train' in f.lower()]\n",
    "        valid_parquet = [f for f in parquet_files if 'valid' in f.lower() or 'validation' in f.lower()]\n",
    "        test_parquet = [f for f in parquet_files if 'test' in f.lower()]\n",
    "        \n",
    "        print(f\"  - Train: {len(train_parquet)} files\")\n",
    "        print(f\"  - Valid: {len(valid_parquet)} files\")\n",
    "        print(f\"  - Test: {len(test_parquet)} files\")\n",
    "        \n",
    "        # Create data files dict\n",
    "        data_files = {}\n",
    "        if train_parquet:\n",
    "            data_files[\"train\"] = train_parquet\n",
    "        if valid_parquet:\n",
    "            data_files[\"valid\"] = valid_parquet\n",
    "        if test_parquet:\n",
    "            data_files[\"test\"] = test_parquet\n",
    "        \n",
    "        # Load dataset from parquet files\n",
    "        print(\"\\nLoading dataset from Parquet files...\")\n",
    "        dataset = load_dataset(\n",
    "            \"jg583/NSynth\",\n",
    "            data_files=data_files,\n",
    "            streaming=True  # Use streaming to avoid downloading everything\n",
    "        )\n",
    "        \n",
    "        print(f\"\\n✅ Dataset loaded successfully!\")\n",
    "        print(f\"Available splits: {list(dataset.keys())}\")\n",
    "        \n",
    "        # Show sample from each split\n",
    "        print(\"\\nVerifying splits with sample data...\")\n",
    "        for split_name in dataset.keys():\n",
    "            sample = next(iter(dataset[split_name]))\n",
    "            print(f\"  {split_name}: {len(sample)} features\")\n",
    "    else:\n",
    "        print(\"No Parquet files found. Trying alternative approach...\")\n",
    "        # Try loading without specifying data files\n",
    "        dataset = load_dataset(\"jg583/NSynth\", streaming=True)\n",
    "        print(f\"\\n✅ Dataset loaded successfully!\")\n",
    "        print(f\"Available splits: {list(dataset.keys())}\")\n",
    "        \n",
    "except Exception as e:\n",
    "    print(f\"❌ Error loading dataset: {e}\")\n",
    "    print(\"\\nTrying to load with default Parquet configuration...\")\n",
    "    try:\n",
    "        # Fallback: try to load directly from the hub's parquet export\n",
    "        dataset = load_dataset(\"jg583/NSynth\", streaming=True)\n",
    "        print(f\"\\n✅ Dataset loaded successfully!\")\n",
    "        print(f\"Available splits: {list(dataset.keys())}\")\n",
    "    except Exception as e2:\n",
    "        print(f\"❌ Fallback also failed: {e2}\")\n",
    "        import traceback\n",
    "        traceback.print_exc()\n"
   ]
  },
  {
   "cell_type": "markdown",
   "id": "b71a24da",
   "metadata": {},
   "source": [
    "## 4. Explore Dataset Structure"
   ]
  },
  {
   "cell_type": "code",
   "execution_count": null,
   "id": "c55086f3",
   "metadata": {},
   "outputs": [],
   "source": [
    "# Show dataset features from streaming dataset\n",
    "print(\"Dataset Features:\")\n",
    "print(dataset['train'].features)\n",
    "\n",
    "# Show a sample\n",
    "print(\"\\n\" + \"=\"*80)\n",
    "print(\"Sample from training set:\")\n",
    "print(\"=\"*80)\n",
    "sample = next(iter(dataset['train']))\n",
    "for key, value in sample.items():\n",
    "    if key != 'audio':  # Skip audio array for readability\n",
    "        print(f\"{key:25s}: {value}\")\n",
    "    else:\n",
    "        if isinstance(value, dict) and 'array' in value:\n",
    "            print(f\"{key:25s}: [array of {len(value['array'])} samples at {value['sampling_rate']} Hz]\")\n",
    "        else:\n",
    "            print(f\"{key:25s}: {value}\")\n"
   ]
  },
  {
   "cell_type": "markdown",
   "id": "8a122b7b",
   "metadata": {},
   "source": [
    "## 5. Convert to Pandas DataFrame for Analysis"
   ]
  },
  {
   "cell_type": "code",
   "execution_count": null,
   "id": "92d5bb9c",
   "metadata": {},
   "outputs": [],
   "source": [
    "# Convert streaming dataset to DataFrame\n",
    "# We'll take a reasonable sample to analyze without using too much memory\n",
    "print(\"Converting dataset samples to DataFrames for analysis...\")\n",
    "print(\"(Taking samples to avoid memory issues with the full 300k+ dataset)\\n\")\n",
    "\n",
    "from tqdm.auto import tqdm\n",
    "\n",
    "def streaming_dataset_to_df(dataset_stream, max_samples=50000):\n",
    "    \"\"\"Convert streaming dataset to DataFrame with a maximum number of samples\"\"\"\n",
    "    data = []\n",
    "    print(f\"Loading up to {max_samples:,} samples...\")\n",
    "    for i, item in enumerate(tqdm(dataset_stream, total=max_samples)):\n",
    "        if i >= max_samples:\n",
    "            break\n",
    "        row = {k: v for k, v in item.items() if k != 'audio'}\n",
    "        # Convert qualities list to count for easier analysis\n",
    "        row['num_qualities'] = sum(item['qualities'])\n",
    "        data.append(row)\n",
    "    print(f\"Loaded {len(data):,} samples\")\n",
    "    return pd.DataFrame(data)\n",
    "\n",
    "# Sample from each split\n",
    "# For train: take 40,000 samples\n",
    "# For valid and test: take all (they're smaller)\n",
    "print(\"Processing train split (40,000 samples)...\")\n",
    "train_df = streaming_dataset_to_df(dataset['train'], max_samples=40000)\n",
    "train_df['split'] = 'train'\n",
    "\n",
    "print(\"\\nProcessing valid split (all samples)...\")\n",
    "valid_df = streaming_dataset_to_df(dataset['valid'], max_samples=15000)\n",
    "valid_df['split'] = 'valid'\n",
    "\n",
    "print(\"\\nProcessing test split (all samples)...\")\n",
    "test_df = streaming_dataset_to_df(dataset['test'], max_samples=5000)\n",
    "test_df['split'] = 'test'\n",
    "\n",
    "# Combine all splits\n",
    "full_df = pd.concat([train_df, valid_df, test_df], ignore_index=True)\n",
    "\n",
    "print(f\"\\n{'='*80}\")\n",
    "print(f\"DATAFRAMES CREATED\")\n",
    "print(f\"{'='*80}\")\n",
    "print(f\"Train DataFrame: {train_df.shape[0]:,} rows x {train_df.shape[1]} columns\")\n",
    "print(f\"Valid DataFrame: {valid_df.shape[0]:,} rows x {valid_df.shape[1]} columns\")\n",
    "print(f\"Test DataFrame:  {test_df.shape[0]:,} rows x {test_df.shape[1]} columns\")\n",
    "print(f\"Combined:        {full_df.shape[0]:,} rows x {full_df.shape[1]} columns\")\n",
    "print(f\"\\nNote: This is a sample of the full NSynth dataset for analysis.\")\n",
    "print(f\"Full dataset has ~305,979 samples total.\")\n",
    "print(f\"\\nFirst few rows:\")\n",
    "display(full_df.head())"
   ]
  },
  {
   "cell_type": "markdown",
   "id": "c87c92be",
   "metadata": {},
   "source": [
    "## 6. Dataset Statistics Summary"
   ]
  },
  {
   "cell_type": "code",
   "execution_count": null,
   "id": "696d0ba2",
   "metadata": {},
   "outputs": [],
   "source": [
    "print(\"=\"*80)\n",
    "print(\"NSYNTH DATASET STATISTICS\")\n",
    "print(\"=\"*80)\n",
    "\n",
    "print(f\"\\nTotal samples: {len(full_df):,}\")\n",
    "print(f\"Unique instruments: {full_df['instrument'].nunique():,}\")\n",
    "print(f\"Pitch range: {full_df['pitch'].min()} - {full_df['pitch'].max()}\")\n",
    "print(f\"Velocity range: {full_df['velocity'].min()} - {full_df['velocity'].max()}\")\n",
    "\n",
    "print(\"\\nInstrument Families:\")\n",
    "print(full_df['instrument_family_str'].value_counts().sort_index())\n",
    "\n",
    "print(\"\\nInstrument Sources:\")\n",
    "print(full_df['instrument_source_str'].value_counts().sort_index())\n",
    "\n",
    "print(\"\\nNumber of Qualities per Sample:\")\n",
    "print(full_df['num_qualities'].value_counts().sort_index())"
   ]
  },
  {
   "cell_type": "markdown",
   "id": "12bb8bbd",
   "metadata": {},
   "source": [
    "## 7. Visualization: Instrument Family Distribution"
   ]
  },
  {
   "cell_type": "code",
   "execution_count": null,
   "id": "43cfb2c3",
   "metadata": {},
   "outputs": [],
   "source": [
    "# Count by instrument family\n",
    "family_counts = full_df['instrument_family_str'].value_counts().sort_values(ascending=True)\n",
    "\n",
    "# Create horizontal bar chart\n",
    "fig = go.Figure()\n",
    "fig.add_trace(go.Bar(\n",
    "    y=family_counts.index,\n",
    "    x=family_counts.values,\n",
    "    orientation='h',\n",
    "    marker=dict(color=family_counts.values, colorscale='Viridis'),\n",
    "    text=family_counts.values,\n",
    "    textposition='auto',\n",
    "))\n",
    "\n",
    "fig.update_layout(\n",
    "    title='Distribution of Samples by Instrument Family',\n",
    "    xaxis_title='Number of Samples',\n",
    "    yaxis_title='Instrument Family',\n",
    "    height=500,\n",
    "    showlegend=False\n",
    ")\n",
    "fig.show()"
   ]
  },
  {
   "cell_type": "markdown",
   "id": "4c702716",
   "metadata": {},
   "source": [
    "## 8. Visualization: Instrument Source Distribution"
   ]
  },
  {
   "cell_type": "code",
   "execution_count": null,
   "id": "e33810e7",
   "metadata": {},
   "outputs": [],
   "source": [
    "# Count by source\n",
    "source_counts = full_df['instrument_source_str'].value_counts()\n",
    "\n",
    "# Create pie chart\n",
    "fig = go.Figure(data=[go.Pie(\n",
    "    labels=source_counts.index,\n",
    "    values=source_counts.values,\n",
    "    hole=0.3,\n",
    "    marker=dict(colors=['#FF6B6B', '#4ECDC4', '#45B7D1']),\n",
    "    textinfo='label+percent+value',\n",
    "    textfont_size=12\n",
    ")])\n",
    "\n",
    "fig.update_layout(\n",
    "    title='Distribution of Samples by Instrument Source',\n",
    "    height=500\n",
    ")\n",
    "fig.show()"
   ]
  },
  {
   "cell_type": "markdown",
   "id": "6672d859",
   "metadata": {},
   "source": [
    "## 9. Visualization: Family vs Source Heatmap"
   ]
  },
  {
   "cell_type": "code",
   "execution_count": null,
   "id": "1bc49d5f",
   "metadata": {},
   "outputs": [],
   "source": [
    "# Create crosstab\n",
    "family_source = pd.crosstab(\n",
    "    full_df['instrument_family_str'], \n",
    "    full_df['instrument_source_str']\n",
    ")\n",
    "\n",
    "# Create heatmap\n",
    "fig = go.Figure(data=go.Heatmap(\n",
    "    z=family_source.values,\n",
    "    x=family_source.columns,\n",
    "    y=family_source.index,\n",
    "    colorscale='YlOrRd',\n",
    "    text=family_source.values,\n",
    "    texttemplate='%{text:,}',\n",
    "    textfont={\"size\": 10},\n",
    "    colorbar=dict(title=\"Count\")\n",
    "))\n",
    "\n",
    "fig.update_layout(\n",
    "    title='Instrument Family vs Source Distribution',\n",
    "    xaxis_title='Instrument Source',\n",
    "    yaxis_title='Instrument Family',\n",
    "    height=600\n",
    ")\n",
    "fig.show()\n",
    "\n",
    "print(\"\\nFamily vs Source Crosstab:\")\n",
    "display(family_source)"
   ]
  },
  {
   "cell_type": "markdown",
   "id": "7daa5737",
   "metadata": {},
   "source": [
    "## 10. Visualization: Pitch Distribution"
   ]
  },
  {
   "cell_type": "code",
   "execution_count": null,
   "id": "fed6cbc5",
   "metadata": {},
   "outputs": [],
   "source": [
    "# Pitch distribution histogram\n",
    "fig = go.Figure()\n",
    "fig.add_trace(go.Histogram(\n",
    "    x=full_df['pitch'],\n",
    "    nbinsx=88,  # MIDI piano range\n",
    "    marker=dict(color='#3498db'),\n",
    "    name='All samples'\n",
    "))\n",
    "\n",
    "fig.update_layout(\n",
    "    title='Distribution of Samples by MIDI Pitch',\n",
    "    xaxis_title='MIDI Pitch (0-127)',\n",
    "    yaxis_title='Number of Samples',\n",
    "    height=500,\n",
    "    showlegend=False\n",
    ")\n",
    "fig.show()\n",
    "\n",
    "print(f\"Pitch statistics:\")\n",
    "print(full_df['pitch'].describe())"
   ]
  },
  {
   "cell_type": "markdown",
   "id": "18d08c46",
   "metadata": {},
   "source": [
    "## 11. Visualization: Velocity Distribution"
   ]
  },
  {
   "cell_type": "code",
   "execution_count": null,
   "id": "364d136b",
   "metadata": {},
   "outputs": [],
   "source": [
    "# Velocity distribution\n",
    "velocity_counts = full_df['velocity'].value_counts().sort_index()\n",
    "\n",
    "fig = go.Figure()\n",
    "fig.add_trace(go.Bar(\n",
    "    x=velocity_counts.index,\n",
    "    y=velocity_counts.values,\n",
    "    marker=dict(color='#E74C3C'),\n",
    "    text=velocity_counts.values,\n",
    "    textposition='auto',\n",
    "))\n",
    "\n",
    "fig.update_layout(\n",
    "    title='Distribution of Samples by MIDI Velocity',\n",
    "    xaxis_title='MIDI Velocity',\n",
    "    yaxis_title='Number of Samples',\n",
    "    height=500,\n",
    "    showlegend=False\n",
    ")\n",
    "fig.show()\n",
    "\n",
    "print(f\"\\nVelocity statistics:\")\n",
    "print(full_df['velocity'].describe())"
   ]
  },
  {
   "cell_type": "markdown",
   "id": "70492004",
   "metadata": {},
   "source": [
    "## 12. Visualization: Sound Qualities Analysis"
   ]
  },
  {
   "cell_type": "code",
   "execution_count": null,
   "id": "e90fd7c9",
   "metadata": {},
   "outputs": [],
   "source": [
    "# Count each quality across all samples\n",
    "quality_names = ['bright', 'dark', 'distortion', 'fast_decay', 'long_release', \n",
    "                 'multiphonic', 'nonlinear_env', 'percussive', 'reverb', 'tempo-synced']\n",
    "\n",
    "quality_counts = {}\n",
    "for i, quality in enumerate(quality_names):\n",
    "    quality_counts[quality] = sum([q[i] for q in full_df['qualities']])\n",
    "\n",
    "quality_df = pd.DataFrame(list(quality_counts.items()), columns=['Quality', 'Count']).sort_values('Count', ascending=True)\n",
    "\n",
    "# Create horizontal bar chart\n",
    "fig = go.Figure()\n",
    "fig.add_trace(go.Bar(\n",
    "    y=quality_df['Quality'],\n",
    "    x=quality_df['Count'],\n",
    "    orientation='h',\n",
    "    marker=dict(color=quality_df['Count'], colorscale='Plasma'),\n",
    "    text=quality_df['Count'],\n",
    "    textposition='auto',\n",
    "))\n",
    "\n",
    "fig.update_layout(\n",
    "    title='Distribution of Sound Qualities Across All Samples',\n",
    "    xaxis_title='Number of Samples',\n",
    "    yaxis_title='Sound Quality',\n",
    "    height=500,\n",
    "    showlegend=False\n",
    ")\n",
    "fig.show()\n",
    "\n",
    "print(\"\\nSound Quality Counts:\")\n",
    "display(quality_df.sort_values('Count', ascending=False))"
   ]
  },
  {
   "cell_type": "markdown",
   "id": "dc173515",
   "metadata": {},
   "source": [
    "## 13. Visualization: Number of Qualities per Sample"
   ]
  },
  {
   "cell_type": "code",
   "execution_count": null,
   "id": "d2ef49c0",
   "metadata": {},
   "outputs": [],
   "source": [
    "# Distribution of number of qualities\n",
    "qualities_dist = full_df['num_qualities'].value_counts().sort_index()\n",
    "\n",
    "fig = go.Figure()\n",
    "fig.add_trace(go.Bar(\n",
    "    x=qualities_dist.index,\n",
    "    y=qualities_dist.values,\n",
    "    marker=dict(color='#9B59B6'),\n",
    "    text=qualities_dist.values,\n",
    "    textposition='auto',\n",
    "))\n",
    "\n",
    "fig.update_layout(\n",
    "    title='Distribution of Number of Qualities per Sample',\n",
    "    xaxis_title='Number of Qualities',\n",
    "    yaxis_title='Number of Samples',\n",
    "    height=500,\n",
    "    showlegend=False\n",
    ")\n",
    "fig.show()"
   ]
  },
  {
   "cell_type": "markdown",
   "id": "a92fb789",
   "metadata": {},
   "source": [
    "## 14. Visualization: Split Distribution"
   ]
  },
  {
   "cell_type": "code",
   "execution_count": null,
   "id": "81cced6f",
   "metadata": {},
   "outputs": [],
   "source": [
    "# Split distribution\n",
    "split_counts = full_df['split'].value_counts()\n",
    "\n",
    "fig = go.Figure(data=[go.Pie(\n",
    "    labels=split_counts.index,\n",
    "    values=split_counts.values,\n",
    "    marker=dict(colors=['#2ECC71', '#F39C12', '#E74C3C']),\n",
    "    textinfo='label+percent+value',\n",
    "    textfont_size=14\n",
    ")])\n",
    "\n",
    "fig.update_layout(\n",
    "    title='Dataset Split Distribution',\n",
    "    height=500\n",
    ")\n",
    "fig.show()"
   ]
  },
  {
   "cell_type": "markdown",
   "id": "7628430f",
   "metadata": {},
   "source": [
    "## 15. Visualization: Pitch Range by Instrument Family"
   ]
  },
  {
   "cell_type": "code",
   "execution_count": null,
   "id": "9ed41364",
   "metadata": {},
   "outputs": [],
   "source": [
    "# Box plot of pitch distribution by family\n",
    "fig = go.Figure()\n",
    "\n",
    "for family in sorted(full_df['instrument_family_str'].unique()):\n",
    "    family_data = full_df[full_df['instrument_family_str'] == family]['pitch']\n",
    "    fig.add_trace(go.Box(\n",
    "        y=family_data,\n",
    "        name=family,\n",
    "        boxmean='sd'\n",
    "    ))\n",
    "\n",
    "fig.update_layout(\n",
    "    title='Pitch Range Distribution by Instrument Family',\n",
    "    xaxis_title='Instrument Family',\n",
    "    yaxis_title='MIDI Pitch',\n",
    "    height=600,\n",
    "    showlegend=True\n",
    ")\n",
    "fig.show()"
   ]
  },
  {
   "cell_type": "markdown",
   "id": "9bc92a10",
   "metadata": {},
   "source": [
    "## 16. Summary Statistics Table"
   ]
  },
  {
   "cell_type": "code",
   "execution_count": null,
   "id": "63fe3582",
   "metadata": {},
   "outputs": [],
   "source": [
    "# Create comprehensive summary by instrument family\n",
    "summary_stats = full_df.groupby('instrument_family_str').agg({\n",
    "    'note': 'count',\n",
    "    'instrument': 'nunique',\n",
    "    'pitch': ['min', 'max', 'mean'],\n",
    "    'velocity': 'nunique',\n",
    "    'num_qualities': 'mean'\n",
    "}).round(2)\n",
    "\n",
    "summary_stats.columns = ['Total Samples', 'Unique Instruments', 'Min Pitch', 'Max Pitch', 'Avg Pitch', 'Unique Velocities', 'Avg Qualities']\n",
    "summary_stats = summary_stats.sort_values('Total Samples', ascending=False)\n",
    "\n",
    "print(\"\\nSummary Statistics by Instrument Family:\")\n",
    "print(\"=\"*120)\n",
    "display(summary_stats)\n",
    "\n",
    "# Export to CSV\n",
    "summary_stats.to_csv('nsynth_summary_statistics.csv')\n",
    "print(\"\\nSummary statistics saved to 'nsynth_summary_statistics.csv'\")"
   ]
  },
  {
   "cell_type": "markdown",
   "id": "26e67e2d",
   "metadata": {},
   "source": [
    "## 17. Save Processed DataFrames"
   ]
  },
  {
   "cell_type": "code",
   "execution_count": null,
   "id": "8e5dc294",
   "metadata": {},
   "outputs": [],
   "source": [
    "# Save the DataFrames for future use\n",
    "print(\"Saving processed DataFrames...\")\n",
    "\n",
    "train_df.to_csv('nsynth_train_metadata.csv', index=False)\n",
    "valid_df.to_csv('nsynth_valid_metadata.csv', index=False)\n",
    "test_df.to_csv('nsynth_test_metadata.csv', index=False)\n",
    "full_df.to_csv('nsynth_full_metadata.csv', index=False)\n",
    "\n",
    "print(\"\\nDataFrames saved successfully:\")\n",
    "print(\"  - nsynth_train_metadata.csv\")\n",
    "print(\"  - nsynth_valid_metadata.csv\")\n",
    "print(\"  - nsynth_test_metadata.csv\")\n",
    "print(\"  - nsynth_full_metadata.csv\")"
   ]
  },
  {
   "cell_type": "markdown",
   "id": "d6f37c97",
   "metadata": {},
   "source": [
    "## 18. Conclusion\n",
    "\n",
    "This notebook has:\n",
    "1. ✅ Downloaded the NSynth dataset from Hugging Face\n",
    "2. ✅ Explored the dataset structure and features\n",
    "3. ✅ Created comprehensive visualizations showing:\n",
    "   - Instrument family distribution\n",
    "   - Instrument source distribution (acoustic, electronic, synthetic)\n",
    "   - Family vs Source relationships\n",
    "   - Pitch and velocity distributions\n",
    "   - Sound quality analysis\n",
    "   - Dataset split proportions\n",
    "4. ✅ Generated summary statistics\n",
    "5. ✅ Saved metadata for future analysis\n",
    "\n",
    "### Key Findings:\n",
    "- The dataset contains **305,979 samples** across **11 instrument families**\n",
    "- Sources are well-balanced between acoustic, electronic, and synthetic\n",
    "- Some family-source combinations have limited representation (e.g., no synthetic brass/strings/organ)\n",
    "- Most samples have 1-3 sound qualities assigned\n",
    "- The dataset is appropriate for training conditional music generation models like MusicControlNet"
   ]
  }
 ],
 "metadata": {
  "kernelspec": {
   "display_name": "venv",
   "language": "python",
   "name": "python3"
  },
  "language_info": {
   "codemirror_mode": {
    "name": "ipython",
    "version": 3
   },
   "file_extension": ".py",
   "mimetype": "text/x-python",
   "name": "python",
   "nbconvert_exporter": "python",
   "pygments_lexer": "ipython3",
   "version": "3.13.3"
  }
 },
 "nbformat": 4,
 "nbformat_minor": 5
}
